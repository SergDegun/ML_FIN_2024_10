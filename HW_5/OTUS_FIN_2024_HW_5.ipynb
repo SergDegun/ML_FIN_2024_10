{
  "nbformat": 4,
  "nbformat_minor": 0,
  "metadata": {
    "colab": {
      "provenance": []
    },
    "kernelspec": {
      "name": "python3",
      "display_name": "Python 3"
    },
    "language_info": {
      "name": "python"
    }
  },
  "cells": [
    {
      "cell_type": "code",
      "source": [
        "pip install streamlit"
      ],
      "metadata": {
        "colab": {
          "base_uri": "https://localhost:8080/"
        },
        "id": "sIQV5J2bopke",
        "outputId": "118da673-bdce-46a1-9d0d-48795659205e"
      },
      "execution_count": 1,
      "outputs": [
        {
          "output_type": "stream",
          "name": "stdout",
          "text": [
            "Collecting streamlit\n",
            "  Downloading streamlit-1.42.2-py2.py3-none-any.whl.metadata (8.9 kB)\n",
            "Requirement already satisfied: altair<6,>=4.0 in /usr/local/lib/python3.11/dist-packages (from streamlit) (5.5.0)\n",
            "Requirement already satisfied: blinker<2,>=1.0.0 in /usr/local/lib/python3.11/dist-packages (from streamlit) (1.9.0)\n",
            "Requirement already satisfied: cachetools<6,>=4.0 in /usr/local/lib/python3.11/dist-packages (from streamlit) (5.5.1)\n",
            "Requirement already satisfied: click<9,>=7.0 in /usr/local/lib/python3.11/dist-packages (from streamlit) (8.1.8)\n",
            "Requirement already satisfied: numpy<3,>=1.23 in /usr/local/lib/python3.11/dist-packages (from streamlit) (1.26.4)\n",
            "Requirement already satisfied: packaging<25,>=20 in /usr/local/lib/python3.11/dist-packages (from streamlit) (24.2)\n",
            "Requirement already satisfied: pandas<3,>=1.4.0 in /usr/local/lib/python3.11/dist-packages (from streamlit) (2.2.2)\n",
            "Requirement already satisfied: pillow<12,>=7.1.0 in /usr/local/lib/python3.11/dist-packages (from streamlit) (11.1.0)\n",
            "Requirement already satisfied: protobuf<6,>=3.20 in /usr/local/lib/python3.11/dist-packages (from streamlit) (4.25.6)\n",
            "Requirement already satisfied: pyarrow>=7.0 in /usr/local/lib/python3.11/dist-packages (from streamlit) (17.0.0)\n",
            "Requirement already satisfied: requests<3,>=2.27 in /usr/local/lib/python3.11/dist-packages (from streamlit) (2.32.3)\n",
            "Requirement already satisfied: rich<14,>=10.14.0 in /usr/local/lib/python3.11/dist-packages (from streamlit) (13.9.4)\n",
            "Requirement already satisfied: tenacity<10,>=8.1.0 in /usr/local/lib/python3.11/dist-packages (from streamlit) (9.0.0)\n",
            "Requirement already satisfied: toml<2,>=0.10.1 in /usr/local/lib/python3.11/dist-packages (from streamlit) (0.10.2)\n",
            "Requirement already satisfied: typing-extensions<5,>=4.4.0 in /usr/local/lib/python3.11/dist-packages (from streamlit) (4.12.2)\n",
            "Collecting watchdog<7,>=2.1.5 (from streamlit)\n",
            "  Downloading watchdog-6.0.0-py3-none-manylinux2014_x86_64.whl.metadata (44 kB)\n",
            "\u001b[2K     \u001b[90m━━━━━━━━━━━━━━━━━━━━━━━━━━━━━━━━━━━━━━━━\u001b[0m \u001b[32m44.3/44.3 kB\u001b[0m \u001b[31m1.9 MB/s\u001b[0m eta \u001b[36m0:00:00\u001b[0m\n",
            "\u001b[?25hRequirement already satisfied: gitpython!=3.1.19,<4,>=3.0.7 in /usr/local/lib/python3.11/dist-packages (from streamlit) (3.1.44)\n",
            "Collecting pydeck<1,>=0.8.0b4 (from streamlit)\n",
            "  Downloading pydeck-0.9.1-py2.py3-none-any.whl.metadata (4.1 kB)\n",
            "Requirement already satisfied: tornado<7,>=6.0.3 in /usr/local/lib/python3.11/dist-packages (from streamlit) (6.4.2)\n",
            "Requirement already satisfied: jinja2 in /usr/local/lib/python3.11/dist-packages (from altair<6,>=4.0->streamlit) (3.1.5)\n",
            "Requirement already satisfied: jsonschema>=3.0 in /usr/local/lib/python3.11/dist-packages (from altair<6,>=4.0->streamlit) (4.23.0)\n",
            "Requirement already satisfied: narwhals>=1.14.2 in /usr/local/lib/python3.11/dist-packages (from altair<6,>=4.0->streamlit) (1.27.1)\n",
            "Requirement already satisfied: gitdb<5,>=4.0.1 in /usr/local/lib/python3.11/dist-packages (from gitpython!=3.1.19,<4,>=3.0.7->streamlit) (4.0.12)\n",
            "Requirement already satisfied: python-dateutil>=2.8.2 in /usr/local/lib/python3.11/dist-packages (from pandas<3,>=1.4.0->streamlit) (2.8.2)\n",
            "Requirement already satisfied: pytz>=2020.1 in /usr/local/lib/python3.11/dist-packages (from pandas<3,>=1.4.0->streamlit) (2025.1)\n",
            "Requirement already satisfied: tzdata>=2022.7 in /usr/local/lib/python3.11/dist-packages (from pandas<3,>=1.4.0->streamlit) (2025.1)\n",
            "Requirement already satisfied: charset-normalizer<4,>=2 in /usr/local/lib/python3.11/dist-packages (from requests<3,>=2.27->streamlit) (3.4.1)\n",
            "Requirement already satisfied: idna<4,>=2.5 in /usr/local/lib/python3.11/dist-packages (from requests<3,>=2.27->streamlit) (3.10)\n",
            "Requirement already satisfied: urllib3<3,>=1.21.1 in /usr/local/lib/python3.11/dist-packages (from requests<3,>=2.27->streamlit) (2.3.0)\n",
            "Requirement already satisfied: certifi>=2017.4.17 in /usr/local/lib/python3.11/dist-packages (from requests<3,>=2.27->streamlit) (2025.1.31)\n",
            "Requirement already satisfied: markdown-it-py>=2.2.0 in /usr/local/lib/python3.11/dist-packages (from rich<14,>=10.14.0->streamlit) (3.0.0)\n",
            "Requirement already satisfied: pygments<3.0.0,>=2.13.0 in /usr/local/lib/python3.11/dist-packages (from rich<14,>=10.14.0->streamlit) (2.18.0)\n",
            "Requirement already satisfied: smmap<6,>=3.0.1 in /usr/local/lib/python3.11/dist-packages (from gitdb<5,>=4.0.1->gitpython!=3.1.19,<4,>=3.0.7->streamlit) (5.0.2)\n",
            "Requirement already satisfied: MarkupSafe>=2.0 in /usr/local/lib/python3.11/dist-packages (from jinja2->altair<6,>=4.0->streamlit) (3.0.2)\n",
            "Requirement already satisfied: attrs>=22.2.0 in /usr/local/lib/python3.11/dist-packages (from jsonschema>=3.0->altair<6,>=4.0->streamlit) (25.1.0)\n",
            "Requirement already satisfied: jsonschema-specifications>=2023.03.6 in /usr/local/lib/python3.11/dist-packages (from jsonschema>=3.0->altair<6,>=4.0->streamlit) (2024.10.1)\n",
            "Requirement already satisfied: referencing>=0.28.4 in /usr/local/lib/python3.11/dist-packages (from jsonschema>=3.0->altair<6,>=4.0->streamlit) (0.36.2)\n",
            "Requirement already satisfied: rpds-py>=0.7.1 in /usr/local/lib/python3.11/dist-packages (from jsonschema>=3.0->altair<6,>=4.0->streamlit) (0.22.3)\n",
            "Requirement already satisfied: mdurl~=0.1 in /usr/local/lib/python3.11/dist-packages (from markdown-it-py>=2.2.0->rich<14,>=10.14.0->streamlit) (0.1.2)\n",
            "Requirement already satisfied: six>=1.5 in /usr/local/lib/python3.11/dist-packages (from python-dateutil>=2.8.2->pandas<3,>=1.4.0->streamlit) (1.17.0)\n",
            "Downloading streamlit-1.42.2-py2.py3-none-any.whl (9.6 MB)\n",
            "\u001b[2K   \u001b[90m━━━━━━━━━━━━━━━━━━━━━━━━━━━━━━━━━━━━━━━━\u001b[0m \u001b[32m9.6/9.6 MB\u001b[0m \u001b[31m17.7 MB/s\u001b[0m eta \u001b[36m0:00:00\u001b[0m\n",
            "\u001b[?25hDownloading pydeck-0.9.1-py2.py3-none-any.whl (6.9 MB)\n",
            "\u001b[2K   \u001b[90m━━━━━━━━━━━━━━━━━━━━━━━━━━━━━━━━━━━━━━━━\u001b[0m \u001b[32m6.9/6.9 MB\u001b[0m \u001b[31m32.6 MB/s\u001b[0m eta \u001b[36m0:00:00\u001b[0m\n",
            "\u001b[?25hDownloading watchdog-6.0.0-py3-none-manylinux2014_x86_64.whl (79 kB)\n",
            "\u001b[2K   \u001b[90m━━━━━━━━━━━━━━━━━━━━━━━━━━━━━━━━━━━━━━━━\u001b[0m \u001b[32m79.1/79.1 kB\u001b[0m \u001b[31m3.9 MB/s\u001b[0m eta \u001b[36m0:00:00\u001b[0m\n",
            "\u001b[?25hInstalling collected packages: watchdog, pydeck, streamlit\n",
            "Successfully installed pydeck-0.9.1 streamlit-1.42.2 watchdog-6.0.0\n"
          ]
        }
      ]
    },
    {
      "cell_type": "code",
      "source": [
        "import numpy as np\n",
        "import pandas as pd\n",
        "import yfinance as yf\n",
        "import tensorflow as tf\n",
        "from tensorflow.keras.models import Sequential\n",
        "from tensorflow.keras.layers import LSTM, Dense, Dropout, Conv1D, MaxPooling1D, Flatten\n",
        "from sklearn.model_selection import train_test_split\n",
        "from sklearn.preprocessing import MinMaxScaler\n",
        "from sklearn.metrics import accuracy_score, precision_score, recall_score, f1_score\n",
        "import matplotlib.pyplot as plt\n",
        "import streamlit as st\n"
      ],
      "metadata": {
        "id": "WCJQ4l22gK30"
      },
      "execution_count": 323,
      "outputs": []
    },
    {
      "cell_type": "code",
      "source": [
        "# Загрузка данных из файла\n",
        "def load_data_from_file(file_path):\n",
        "  try:\n",
        "    data = pd.read_csv(file_path)\n",
        "    data['Date'] = pd.to_datetime(data['Date'])\n",
        "    data.set_index('Date', inplace=True)\n",
        "    return data\n",
        "  except FileNotFoundError:\n",
        "      print(f\"Файл '{file_path}' не найден.\")\n",
        "      return None\n",
        "\n",
        "# Загрузка данных из yaho finance\n",
        "def load_data_from_yf(ticker, timeframe='1d'):\n",
        "  df = yf.download(ticker, interval=timeframe)\n",
        "  df = df.reset_index()\n",
        "  if isinstance(df.columns, pd.MultiIndex):\n",
        "      df.columns = df.columns.droplevel(level=1)\n",
        "  df['Date'] = pd.to_datetime(df['Date'])\n",
        "  df.set_index('Date', inplace=True)\n",
        "  return df"
      ],
      "metadata": {
        "id": "zAOj8IJKHmOr"
      },
      "execution_count": 324,
      "outputs": []
    },
    {
      "cell_type": "code",
      "source": [
        "# Индикатор RSI\n",
        "def rsi(close_prices, n=14):\n",
        "  delta = close_prices.diff().dropna()\n",
        "  up = delta.clip(lower=0)\n",
        "  down = -delta.clip(upper=0)\n",
        "  rs = up.ewm(span=n, adjust=False).mean() / down.ewm(span=n, adjust=False).mean()\n",
        "  return 100 - (100 / (1 + rs))"
      ],
      "metadata": {
        "id": "fMmaatGXf54a"
      },
      "execution_count": 325,
      "outputs": []
    },
    {
      "cell_type": "code",
      "source": [
        "# Колонки для нормализации\n",
        "columns_to_scale = ['Open', 'High', 'Low', 'Close', 'Volume', 'Mean', 'Value']\n",
        "# Колонки, которые не нужно нормализовать\n",
        "columns_not_to_scale = ['Predict', 'SMA', 'RSI']\n",
        "\n",
        "# Предобработка данных\n",
        "def preprocess_data(data, window_size=30):\n",
        "  # Добавление новых признаков\n",
        "  data['Mean'] = (data['Open']+data['High']+data['Low']+data['Close']) / 4 # Средняя цена\n",
        "  data['Value'] = data['Volume'] * data['Mean'] # Объём в деньгах\n",
        "  data['SMA'] = data['Close'].rolling(window_size).mean()  # Скользящая средняя\n",
        "  data['RSI'] = rsi(data['Close'], n=window_size)  # Индекс относительной силы\n",
        "\n",
        "  # Формирование признака предсказания для стратегии, основанной на использовании GAP,\n",
        "  # как отношения цены открытия завтра к цене закрытия сегодня\n",
        "  data[\"Predict\"] = data['Open'].shift(-1) / data[\"Close\"]\n",
        "\n",
        "  # Удаляем строки с NaN-значениями\n",
        "  data.dropna(inplace=True)\n",
        "\n",
        "  # Сохраняем реальные цены закрытия\n",
        "  Close_prices = data['Close'].values\n",
        "\n",
        "  # Нормализация данных только к выбранным колонкам\n",
        "  scaler = MinMaxScaler(feature_range=(0, 1))\n",
        "  scaled_data = scaler.fit_transform(data[columns_to_scale])\n",
        "\n",
        "  # Преобразуем результат обратно в DataFrame\n",
        "  scaled_df = pd.DataFrame(scaled_data, columns=columns_to_scale)\n",
        "\n",
        "  # Добавляем колонки, которые не нужно было нормализовать\n",
        "  scaled_df[columns_not_to_scale] = data[columns_not_to_scale].reset_index(drop=True)\n",
        "\n",
        "  # Сохраняем колонку 'Predict' для целевой переменной\n",
        "  y_data = scaled_df['Predict'].values\n",
        "\n",
        "  # Удаление колонки 'Predict' и преобразование DataFrame в массив NumPy для удобства работы\n",
        "  X_data = scaled_df.drop(columns=['Predict']).values\n",
        "\n",
        "  # Создание временных окон\n",
        "  X, y = [], []\n",
        "  for i in range(window_size, len(scaled_df)):\n",
        "      X.append(X_data[i - window_size:i, :]) # Все колонки, кроме 'Predict'\n",
        "      y.append(y_data[i]) # Целевая переменная колонка 'Predict'\n",
        "  X, y = np.array(X), np.array(y)\n",
        "\n",
        "  # Разделение на обучающую и тестовую выборки\n",
        "  X_train, X_test, y_train, y_test = train_test_split(X, y, test_size=0.2, shuffle=False)\n",
        "\n",
        "  # Разделение Close_prices в том же отношении, что и X, y\n",
        "  # Используем индексы, полученные при разбиении X и y\n",
        "  split_index = len(X_train)\n",
        "  Close_train = Close_prices[window_size:split_index + window_size]\n",
        "  Close_test = Close_prices[split_index + window_size:]\n",
        "\n",
        "  return X_train, X_test, y_train, y_test, Close_train, Close_test, scaler"
      ],
      "metadata": {
        "id": "P2jsQaRqDmPm"
      },
      "execution_count": 326,
      "outputs": []
    },
    {
      "cell_type": "code",
      "source": [
        "def create_lstm_model(input_shape):\n",
        "  model = Sequential()\n",
        "  model.add(LSTM(50, return_sequences=True, input_shape=input_shape))\n",
        "  model.add(Dropout(0.2))\n",
        "  model.add(LSTM(50, return_sequences=False))\n",
        "  model.add(Dropout(0.2))\n",
        "  model.add(Dense(25))\n",
        "  model.add(Dense(1))  # Прогнозирование цены\n",
        "  model.compile(optimizer='adam', loss='mean_squared_error')\n",
        "  return model"
      ],
      "metadata": {
        "id": "geQcitPef-F2"
      },
      "execution_count": 327,
      "outputs": []
    },
    {
      "cell_type": "code",
      "source": [
        "def create_cnn_lstm_model(input_shape):\n",
        "    model = Sequential()\n",
        "    model.add(Conv1D(filters=64, kernel_size=3, activation='relu', input_shape=input_shape))\n",
        "    model.add(MaxPooling1D(pool_size=2))\n",
        "    model.add(LSTM(50, return_sequences=True))\n",
        "    model.add(Dropout(0.2))\n",
        "    model.add(LSTM(50, return_sequences=False))\n",
        "    model.add(Dropout(0.2))\n",
        "    model.add(Dense(25))\n",
        "    model.add(Dense(1))  # Прогнозирование цены\n",
        "    model.compile(optimizer='adam', loss='mean_squared_error')\n",
        "    return model"
      ],
      "metadata": {
        "id": "WVJq_5BipA6c"
      },
      "execution_count": 328,
      "outputs": []
    },
    {
      "cell_type": "code",
      "source": [
        "def train_model(model, X_train, y_train, epochs=50, batch_size=32):\n",
        "  history = model.fit(X_train, y_train, epochs=epochs, batch_size=batch_size, validation_split=0.1, verbose=1)\n",
        "  return history"
      ],
      "metadata": {
        "id": "_nJ2yXms3l7b"
      },
      "execution_count": 329,
      "outputs": []
    },
    {
      "cell_type": "code",
      "source": [
        "def test_model(model, X_test, y_test):\n",
        "    # Получаем прогнозы\n",
        "    predictions = model.predict(X_test)\n",
        "    # Создаем массив с 8 столбцами, где первый столбец — прогнозы, остальные — нули\n",
        "    #predictions_reshaped = np.zeros((predictions.shape[0], scaler.n_features_in_))\n",
        "    #predictions_reshaped[:, 0] = predictions.flatten()\n",
        "    # Применяем обратное преобразование\n",
        "    #predictions = scaler.inverse_transform(predictions_reshaped)[:, 0]\n",
        "    # Аналогично для y_test\n",
        "    #y_test_reshaped = np.zeros((y_test.shape[0], scaler.n_features_in_))\n",
        "    #y_test_reshaped[:, 0] = y_test.flatten()\n",
        "    #y_test = scaler.inverse_transform(y_test_reshaped)[:, 0]\n",
        "    return predictions, y_test"
      ],
      "metadata": {
        "id": "l9pvS0YoxzJe"
      },
      "execution_count": 330,
      "outputs": []
    },
    {
      "cell_type": "code",
      "source": [
        "def calculate_metrics(predictions, y_test):\n",
        "  # метрика: точность направления движения цены\n",
        "  pred_sign = np.sign(predictions -1)\n",
        "  test_sign = np.sign(y_test - 1)\n",
        "  direction_accuracy = accuracy_score(test_sign, pred_sign)\n",
        "  rmse = np.mean((predictions - y_test) ** 2) ** 0.5\n",
        "  mae = np.mean(np.abs(predictions - y_test))\n",
        "  average = y_test.mean()\n",
        "  rmse2avg = rmse / average\n",
        "  mae2avg = mae / average\n",
        "  return direction_accuracy, rmse, mae, rmse2avg, mae2avg"
      ],
      "metadata": {
        "id": "5LVpVAkr3r_F"
      },
      "execution_count": 331,
      "outputs": []
    },
    {
      "cell_type": "code",
      "source": [
        "# Загрузка данных\n",
        "#file_path = 'stock_data.csv'  # Замените на путь к вашему файлу\n",
        "#data = load_data_from_file(file_path)\n",
        "data = load_data_from_yf(\"AAPL\")"
      ],
      "metadata": {
        "colab": {
          "base_uri": "https://localhost:8080/"
        },
        "id": "WmhfgIgy3ydJ",
        "outputId": "60e47b93-7796-4d46-8200-4471d0d15553"
      },
      "execution_count": 332,
      "outputs": [
        {
          "output_type": "stream",
          "name": "stderr",
          "text": [
            "\r[*********************100%***********************]  1 of 1 completed\n"
          ]
        }
      ]
    },
    {
      "cell_type": "code",
      "source": [
        "# Предобработка данных\n",
        "X_train, X_test, y_train, y_test, Close_train, Close_test, scaler = preprocess_data(data)"
      ],
      "metadata": {
        "id": "qGPs0E5zB8wO"
      },
      "execution_count": 333,
      "outputs": []
    },
    {
      "cell_type": "code",
      "source": [
        "# Создание и обучение модели\n",
        "model = create_cnn_lstm_model((X_train.shape[1], X_train.shape[2]))\n",
        "history = train_model(model, X_train, y_train, 10)"
      ],
      "metadata": {
        "colab": {
          "base_uri": "https://localhost:8080/"
        },
        "id": "X-7gDewPGG3D",
        "outputId": "af73a32e-922d-4279-b2f3-0d17bbeb10b0"
      },
      "execution_count": 334,
      "outputs": [
        {
          "output_type": "stream",
          "name": "stderr",
          "text": [
            "/usr/local/lib/python3.11/dist-packages/keras/src/layers/convolutional/base_conv.py:107: UserWarning: Do not pass an `input_shape`/`input_dim` argument to a layer. When using Sequential models, prefer using an `Input(shape)` object as the first layer in the model instead.\n",
            "  super().__init__(activity_regularizer=activity_regularizer, **kwargs)\n"
          ]
        },
        {
          "output_type": "stream",
          "name": "stdout",
          "text": [
            "Epoch 1/10\n",
            "\u001b[1m250/250\u001b[0m \u001b[32m━━━━━━━━━━━━━━━━━━━━\u001b[0m\u001b[37m\u001b[0m \u001b[1m10s\u001b[0m 20ms/step - loss: 0.0548 - val_loss: 8.6495e-04\n",
            "Epoch 2/10\n",
            "\u001b[1m250/250\u001b[0m \u001b[32m━━━━━━━━━━━━━━━━━━━━\u001b[0m\u001b[37m\u001b[0m \u001b[1m5s\u001b[0m 21ms/step - loss: 0.0053 - val_loss: 5.3840e-04\n",
            "Epoch 3/10\n",
            "\u001b[1m250/250\u001b[0m \u001b[32m━━━━━━━━━━━━━━━━━━━━\u001b[0m\u001b[37m\u001b[0m \u001b[1m5s\u001b[0m 19ms/step - loss: 0.0036 - val_loss: 1.4020e-04\n",
            "Epoch 4/10\n",
            "\u001b[1m250/250\u001b[0m \u001b[32m━━━━━━━━━━━━━━━━━━━━\u001b[0m\u001b[37m\u001b[0m \u001b[1m4s\u001b[0m 18ms/step - loss: 0.0025 - val_loss: 2.1666e-04\n",
            "Epoch 5/10\n",
            "\u001b[1m250/250\u001b[0m \u001b[32m━━━━━━━━━━━━━━━━━━━━\u001b[0m\u001b[37m\u001b[0m \u001b[1m6s\u001b[0m 20ms/step - loss: 0.0017 - val_loss: 1.7754e-04\n",
            "Epoch 6/10\n",
            "\u001b[1m250/250\u001b[0m \u001b[32m━━━━━━━━━━━━━━━━━━━━\u001b[0m\u001b[37m\u001b[0m \u001b[1m5s\u001b[0m 18ms/step - loss: 0.0012 - val_loss: 1.4219e-04\n",
            "Epoch 7/10\n",
            "\u001b[1m250/250\u001b[0m \u001b[32m━━━━━━━━━━━━━━━━━━━━\u001b[0m\u001b[37m\u001b[0m \u001b[1m6s\u001b[0m 22ms/step - loss: 8.4440e-04 - val_loss: 1.4090e-04\n",
            "Epoch 8/10\n",
            "\u001b[1m250/250\u001b[0m \u001b[32m━━━━━━━━━━━━━━━━━━━━\u001b[0m\u001b[37m\u001b[0m \u001b[1m9s\u001b[0m 18ms/step - loss: 5.0782e-04 - val_loss: 1.3810e-04\n",
            "Epoch 9/10\n",
            "\u001b[1m250/250\u001b[0m \u001b[32m━━━━━━━━━━━━━━━━━━━━\u001b[0m\u001b[37m\u001b[0m \u001b[1m5s\u001b[0m 20ms/step - loss: 4.8889e-04 - val_loss: 1.3826e-04\n",
            "Epoch 10/10\n",
            "\u001b[1m250/250\u001b[0m \u001b[32m━━━━━━━━━━━━━━━━━━━━\u001b[0m\u001b[37m\u001b[0m \u001b[1m4s\u001b[0m 18ms/step - loss: 3.9517e-04 - val_loss: 1.7982e-04\n"
          ]
        }
      ]
    },
    {
      "cell_type": "code",
      "source": [
        "# Тестирование модели\n",
        "predictions, y_test = test_model(model, X_test, y_test)\n",
        "\n",
        "# Расчет метрик\n",
        "direction_accuracy, rmse, mae, rmse2avg, mae2avg  = calculate_metrics(predictions, y_test)\n",
        "print(f\"Точность направления движения цены: {direction_accuracy:.4f}\")\n",
        "print(f\"Средняя абсолютная ошибка цены (MAE): {mae:.4f}\")\n",
        "print(f\"Средняя квадратичная ошибка цены (RMSE): {rmse:.4f}\")\n",
        "print(f\"Относительная средняя абсолютная ошибка цены (MAE): {mae2avg:.4f}\")\n",
        "print(f\"Относительная средняя квадратичная ошибка цены (RMSE): {rmse2avg:.4f}\")"
      ],
      "metadata": {
        "colab": {
          "base_uri": "https://localhost:8080/"
        },
        "id": "flnFDYWZGNFp",
        "outputId": "eedd80a2-bc20-4a63-c4bc-869020e03481"
      },
      "execution_count": 335,
      "outputs": [
        {
          "output_type": "stream",
          "name": "stdout",
          "text": [
            "\u001b[1m70/70\u001b[0m \u001b[32m━━━━━━━━━━━━━━━━━━━━\u001b[0m\u001b[37m\u001b[0m \u001b[1m1s\u001b[0m 10ms/step\n",
            "Точность направления движения цены: 0.4892\n",
            "Средняя абсолютная ошибка цены (MAE): 0.0245\n",
            "Средняя квадратичная ошибка цены (RMSE): 0.0319\n",
            "Относительная средняя абсолютная ошибка цены (MAE): 0.0245\n",
            "Относительная средняя квадратичная ошибка цены (RMSE): 0.0319\n"
          ]
        }
      ]
    },
    {
      "cell_type": "code",
      "source": [
        "count_less_than_1 = np.sum(predictions < 1)\n",
        "print(f\"Количество элементов меньше 1: {count_less_than_1}\")"
      ],
      "metadata": {
        "colab": {
          "base_uri": "https://localhost:8080/"
        },
        "id": "IwWBnum7ZOSW",
        "outputId": "f78e439a-4ff5-46e1-809e-78cab8bb47b3"
      },
      "execution_count": 337,
      "outputs": [
        {
          "output_type": "stream",
          "name": "stdout",
          "text": [
            "Количество элементов меньше 1: 965\n"
          ]
        }
      ]
    },
    {
      "cell_type": "code",
      "source": [
        "# Сохранение метрик в файл\n",
        "metrics = {\n",
        "    'Модель': 'LSTM',\n",
        "    'Точность направления': direction_accuracy,\n",
        "    'Средняя абсолютная ошибка': mae,\n",
        "    'Средняя квадратичная ошибка': rmse,\n",
        "    'Относительная средняя абсолютная ошибка': mae2avg,\n",
        "    'Относительная средняя квадратичная ошибка': rmse2avg\n",
        "}\n",
        "metrics_df = pd.DataFrame([metrics])\n",
        "metrics_df.to_csv('metrics.csv', index=False)"
      ],
      "metadata": {
        "id": "_m7vuSb-8USv"
      },
      "execution_count": 338,
      "outputs": []
    },
    {
      "cell_type": "code",
      "source": [
        "# Создание дашборда с использованием Streamlit\n",
        "def create_dashboard(data, predictions, y_test):\n",
        "    st.title('Дашборд торговой стратегии')\n",
        "    st.write(\"### График прогнозов и реальных цен\")\n",
        "    plt.figure(figsize=(10, 6))\n",
        "    plt.plot(y_test, label='Реальные цены')\n",
        "    plt.plot(predictions, label='Прогнозы')\n",
        "    plt.legend()\n",
        "    st.pyplot(plt)\n",
        "\n",
        "    st.write(\"### Метрики модели\")\n",
        "    metrics_df = pd.read_csv('metrics.csv')\n",
        "    st.table(metrics_df)"
      ],
      "metadata": {
        "id": "9CgrhiGU8VxP"
      },
      "execution_count": 339,
      "outputs": []
    },
    {
      "cell_type": "code",
      "source": [
        "create_dashboard(data, predictions, y_test)"
      ],
      "metadata": {
        "colab": {
          "base_uri": "https://localhost:8080/"
        },
        "id": "w_QABX748d0O",
        "outputId": "4aeaa10c-8346-4224-cb54-2f0938281711"
      },
      "execution_count": 340,
      "outputs": [
        {
          "output_type": "stream",
          "name": "stderr",
          "text": [
            "2025-02-24 15:01:07.953 Thread 'MainThread': missing ScriptRunContext! This warning can be ignored when running in bare mode.\n",
            "2025-02-24 15:01:07.954 Thread 'MainThread': missing ScriptRunContext! This warning can be ignored when running in bare mode.\n",
            "2025-02-24 15:01:07.955 Thread 'MainThread': missing ScriptRunContext! This warning can be ignored when running in bare mode.\n",
            "2025-02-24 15:01:07.957 Thread 'MainThread': missing ScriptRunContext! This warning can be ignored when running in bare mode.\n",
            "2025-02-24 15:01:07.957 Thread 'MainThread': missing ScriptRunContext! This warning can be ignored when running in bare mode.\n",
            "2025-02-24 15:01:07.958 Thread 'MainThread': missing ScriptRunContext! This warning can be ignored when running in bare mode.\n",
            "2025-02-24 15:01:07.976 Thread 'MainThread': missing ScriptRunContext! This warning can be ignored when running in bare mode.\n",
            "2025-02-24 15:01:08.504 Thread 'MainThread': missing ScriptRunContext! This warning can be ignored when running in bare mode.\n",
            "2025-02-24 15:01:08.505 Thread 'MainThread': missing ScriptRunContext! This warning can be ignored when running in bare mode.\n",
            "2025-02-24 15:01:08.506 Thread 'MainThread': missing ScriptRunContext! This warning can be ignored when running in bare mode.\n",
            "2025-02-24 15:01:08.507 Thread 'MainThread': missing ScriptRunContext! This warning can be ignored when running in bare mode.\n",
            "2025-02-24 15:01:08.509 Thread 'MainThread': missing ScriptRunContext! This warning can be ignored when running in bare mode.\n",
            "2025-02-24 15:01:08.510 Thread 'MainThread': missing ScriptRunContext! This warning can be ignored when running in bare mode.\n",
            "2025-02-24 15:01:08.516 Thread 'MainThread': missing ScriptRunContext! This warning can be ignored when running in bare mode.\n",
            "2025-02-24 15:01:08.519 Thread 'MainThread': missing ScriptRunContext! This warning can be ignored when running in bare mode.\n",
            "2025-02-24 15:01:08.520 Thread 'MainThread': missing ScriptRunContext! This warning can be ignored when running in bare mode.\n"
          ]
        }
      ]
    },
    {
      "cell_type": "code",
      "source": [
        "def simulate_trading(predictions, Close_prices, initial_capital=10000, commission=0.001):\n",
        "    \"\"\"\n",
        "    Симуляция торговли на тестовых данных.\n",
        "    Будем покупать акции, если модель предсказывает рост цены, и продавать, если предсказывает падение\n",
        "    :param predictions: предсказания модели\n",
        "    :param Close_prices: Реальные цены закрытия\n",
        "    :param initial_capital: Начальный капитал\n",
        "    :param commission: Комиссия за сделку (например, 0.1%)\n",
        "    :return: История капитала, список сделок\n",
        "    \"\"\"\n",
        "    # Инициализация переменных\n",
        "    capital = initial_capital\n",
        "    position = 0  # Текущая позиция (0 - нет позиции, 1 - куплено, -1 - продано)\n",
        "    trades = []  # Список для хранения сделок\n",
        "    capital_history = []  # История изменения капитала\n",
        "\n",
        "    for i in range(len(predictions) - 1):\n",
        "        current_price = Close_prices[i]\n",
        "        predicted_change = predictions[i] - 1\n",
        "\n",
        "        # Сигнал на покупку (предсказание роста)\n",
        "        if predicted_change > 0 and position <= 0:\n",
        "            if position == -1:\n",
        "                # Закрываем короткую позицию (покупаем)\n",
        "                capital += position * current_price * (1 - commission)\n",
        "                position = 0\n",
        "            # Покупаем\n",
        "            shares_to_buy = capital // (current_price * (1 + commission))\n",
        "            if shares_to_buy > 0:\n",
        "                capital -= shares_to_buy * current_price * (1 + commission)\n",
        "                position = 1\n",
        "                trades.append(('buy', current_price, shares_to_buy))\n",
        "\n",
        "        # Сигнал на продажу (предсказание падения)\n",
        "        elif predicted_change < 0 and position >= 0:\n",
        "            if position == 1:\n",
        "                # Закрываем длинную позицию (продаем)\n",
        "                capital += position * current_price * (1 - commission)\n",
        "                position = 0\n",
        "            # Продаем (шорт)\n",
        "            shares_to_sell = capital // (current_price * (1 + commission))\n",
        "            if shares_to_sell > 0:\n",
        "                capital += shares_to_sell * current_price * (1 - commission)\n",
        "                position = -1\n",
        "                trades.append(('sell', current_price, shares_to_sell))\n",
        "\n",
        "        # Обновляем историю капитала\n",
        "        if position == 1:\n",
        "            capital_history.append(capital + (shares_to_buy * current_price))\n",
        "        elif position == -1:\n",
        "            capital_history.append(capital - (shares_to_sell * current_price))\n",
        "        else:\n",
        "            capital_history.append(capital)\n",
        "\n",
        "    # Закрываем последнюю позицию, если она открыта\n",
        "    if position == 1:\n",
        "        capital += position * Close_prices[-1] * (1 - commission)\n",
        "    elif position == -1:\n",
        "        capital += position * Close_prices[-1] * (1 - commission)\n",
        "\n",
        "    return capital_history, trades"
      ],
      "metadata": {
        "id": "0wsLPLQTr5tV"
      },
      "execution_count": 341,
      "outputs": []
    },
    {
      "cell_type": "code",
      "source": [
        "# Симуляция торгов\n",
        "capital_history, trades = simulate_trading(predictions, Close_test, initial_capital=10000, commission=0.001)\n",
        "# Вывод результатов\n",
        "print(f\"Конечный капитал: {capital_history[-1]:.2f}\")\n",
        "print(f\"Количество сделок: {len(trades)}\")\n",
        "print(f\"Первые 5 сделок: {trades[:5]}\")"
      ],
      "metadata": {
        "colab": {
          "base_uri": "https://localhost:8080/"
        },
        "id": "5rOSUXGPr758",
        "outputId": "337e1ea8-66a6-4951-b023-dbca2a210173"
      },
      "execution_count": 342,
      "outputs": [
        {
          "output_type": "stream",
          "name": "stdout",
          "text": [
            "Конечный капитал: 32.78\n",
            "Количество сделок: 7\n",
            "Первые 5 сделок: [('sell', 21.300058364868164, 469.0), ('buy', 38.44581985473633, 518.0), ('sell', 38.613346099853516, 1.0), ('buy', 38.37558364868164, 1.0), ('sell', 37.62424850463867, 1.0)]\n"
          ]
        }
      ]
    },
    {
      "cell_type": "code",
      "source": [
        "# Добавление графика капитала в дашборд\n",
        "def create_dashboard2(data, predictions, y_test, capital_history):\n",
        "    st.title('Дашборд торговой стратегии')\n",
        "    st.write(\"### График прогнозов и реальных цен\")\n",
        "    fig, ax = plt.subplots(figsize=(10, 6))\n",
        "    ax.plot(y_test, label='Реальные цены')\n",
        "    ax.plot(predictions, label='Прогнозы')\n",
        "    ax.legend()\n",
        "    st.pyplot(fig)\n",
        "\n",
        "    st.write(\"### График изменения капитала\")\n",
        "    fig, ax = plt.subplots(figsize=(10, 6))\n",
        "    ax.plot(capital_history, label='Капитал')\n",
        "    ax.set_xlabel('Время')\n",
        "    ax.set_ylabel('Капитал')\n",
        "    ax.legend()\n",
        "    st.pyplot(fig)\n",
        "\n",
        "    st.write(\"### Метрики модели\")\n",
        "    metrics_df = pd.read_csv('metrics.csv')\n",
        "    st.table(metrics_df)"
      ],
      "metadata": {
        "id": "-BVgJ5O_sDu5"
      },
      "execution_count": 343,
      "outputs": []
    },
    {
      "cell_type": "code",
      "source": [
        "create_dashboard2(data, predictions, y_test, capital_history)"
      ],
      "metadata": {
        "colab": {
          "base_uri": "https://localhost:8080/"
        },
        "id": "eRkRMPTisYku",
        "outputId": "bfb24ba5-3c27-4b28-c519-8e03002af7b9"
      },
      "execution_count": 344,
      "outputs": [
        {
          "output_type": "stream",
          "name": "stderr",
          "text": [
            "2025-02-24 15:01:31.455 Thread 'MainThread': missing ScriptRunContext! This warning can be ignored when running in bare mode.\n",
            "2025-02-24 15:01:31.456 Thread 'MainThread': missing ScriptRunContext! This warning can be ignored when running in bare mode.\n",
            "2025-02-24 15:01:31.457 Thread 'MainThread': missing ScriptRunContext! This warning can be ignored when running in bare mode.\n",
            "2025-02-24 15:01:31.458 Thread 'MainThread': missing ScriptRunContext! This warning can be ignored when running in bare mode.\n",
            "2025-02-24 15:01:31.459 Thread 'MainThread': missing ScriptRunContext! This warning can be ignored when running in bare mode.\n",
            "2025-02-24 15:01:31.460 Thread 'MainThread': missing ScriptRunContext! This warning can be ignored when running in bare mode.\n",
            "2025-02-24 15:01:31.479 Thread 'MainThread': missing ScriptRunContext! This warning can be ignored when running in bare mode.\n",
            "2025-02-24 15:01:31.928 Thread 'MainThread': missing ScriptRunContext! This warning can be ignored when running in bare mode.\n",
            "2025-02-24 15:01:31.929 Thread 'MainThread': missing ScriptRunContext! This warning can be ignored when running in bare mode.\n",
            "2025-02-24 15:01:31.930 Thread 'MainThread': missing ScriptRunContext! This warning can be ignored when running in bare mode.\n",
            "2025-02-24 15:01:31.932 Thread 'MainThread': missing ScriptRunContext! This warning can be ignored when running in bare mode.\n",
            "2025-02-24 15:01:31.933 Thread 'MainThread': missing ScriptRunContext! This warning can be ignored when running in bare mode.\n",
            "2025-02-24 15:01:31.934 Thread 'MainThread': missing ScriptRunContext! This warning can be ignored when running in bare mode.\n",
            "2025-02-24 15:01:31.948 Thread 'MainThread': missing ScriptRunContext! This warning can be ignored when running in bare mode.\n",
            "2025-02-24 15:01:32.331 Thread 'MainThread': missing ScriptRunContext! This warning can be ignored when running in bare mode.\n",
            "2025-02-24 15:01:32.332 Thread 'MainThread': missing ScriptRunContext! This warning can be ignored when running in bare mode.\n",
            "2025-02-24 15:01:32.334 Thread 'MainThread': missing ScriptRunContext! This warning can be ignored when running in bare mode.\n",
            "2025-02-24 15:01:32.336 Thread 'MainThread': missing ScriptRunContext! This warning can be ignored when running in bare mode.\n",
            "2025-02-24 15:01:32.337 Thread 'MainThread': missing ScriptRunContext! This warning can be ignored when running in bare mode.\n",
            "2025-02-24 15:01:32.338 Thread 'MainThread': missing ScriptRunContext! This warning can be ignored when running in bare mode.\n",
            "2025-02-24 15:01:32.342 Thread 'MainThread': missing ScriptRunContext! This warning can be ignored when running in bare mode.\n",
            "2025-02-24 15:01:32.345 Thread 'MainThread': missing ScriptRunContext! This warning can be ignored when running in bare mode.\n",
            "2025-02-24 15:01:32.345 Thread 'MainThread': missing ScriptRunContext! This warning can be ignored when running in bare mode.\n"
          ]
        }
      ]
    },
    {
      "cell_type": "markdown",
      "source": [
        "ВЫВОДЫ:\n",
        "1. Модель плохо обучается по предсказыванию целевой величины и поэтому всегда предсказывает только повышение\n",
        "2. Торговая стратегия не генерирует прибыль"
      ],
      "metadata": {
        "id": "o2KWFW72ddbx"
      }
    }
  ]
}